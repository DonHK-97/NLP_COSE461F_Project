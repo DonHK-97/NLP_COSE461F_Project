{
 "cells": [
  {
   "cell_type": "code",
   "execution_count": null,
   "id": "f456e827",
   "metadata": {},
   "outputs": [],
   "source": [
    "import torch\n",
    "import torch.nn as nn\n",
    "import torch.nn.functional as F\n",
    "import fastai.layers as L\n",
    "\n",
    "torch.backends.cudnn.deterministic = True\n",
    "\n",
    "class ResDongNet(nn.Module):\n",
    "    def __init__(self,input_channels, num_channels, use_1x1conv=False, strides=1, **kwargs):\n",
    "        super(Residual, self).__init__(**kwargs)\n",
    "        \n",
    "        self.bn1 = nn.BatchNorm2d(num_channels)\n",
    "        self.bn2 = nn.BatchNorm2d(num_channels)\n",
    "        self.relu = nn.ReLU(inplace=True)\n",
    "        \n",
    "        self.conv1 = nn.Conv2d(input_channels, num_channels,kernel_size=3, padding=1, stride=strides)\n",
    "        self.conv2 = nn.Conv2d(num_channels, num_channels, kernel_size=3, padding=1)\n",
    "        \n",
    "        if use_1x1conv:\n",
    "            self.conv3 = nn.Conv2d(input_channels, num_channels, kernel_size=1, stride=strides)\n",
    "        else:\n",
    "            self.conv3 = None\n",
    "    \n",
    "    def forward(self, X):\n",
    "        Y = self.relu(self.bn1(self.conv1(X)))\n",
    "        Y = self.bn2(self.conv2(Y))\n",
    "        \n",
    "        if self.conv3:\n",
    "            X = self.conv3(X)\n",
    "        Y += X\n",
    "        Y = self.relu(Y)\n",
    "        \n",
    "        return Y"
   ]
  },
  {
   "cell_type": "code",
   "execution_count": null,
   "id": "e4753c36",
   "metadata": {},
   "outputs": [],
   "source": [
    "class Bottle_Drop(nn.Module):\n",
    "    def __init__(self, input_channels, dropout = 0):\n",
    "        super().__init__()\n",
    "        \n",
    "        self.BottleNeck = L.conv1d(input_channels, input_channels * 2, stride = 2)\n",
    "        self.drop_valid = dropout\n",
    "        \n",
    "    def forward(self, X):\n",
    "        if self.drop_valid > 0: \n",
    "            X_dropped = F.dropout(X, p = drop_valid, training = self.training)\n",
    "            return X_dropped + self.BottleNeck(X.orig)\n",
    "        else:\n",
    "            return X + self.BottleNeck(X.orig)"
   ]
  },
  {
   "cell_type": "code",
   "execution_count": null,
   "id": "20602d36",
   "metadata": {},
   "outputs": [],
   "source": [
    "class Flatten(nn.Module):\n",
    "    def forward(self, input):\n",
    "        return input.view(input.size(0), -1)\n",
    "    \n",
    "b2=nn.Sequential(*resnet_block(64,64,2,first_block=True))\n",
    "b3=nn.Sequential(*resnet_block(64,128,3))\n",
    "b4=nn.Sequential(*resnet_block(128,256,4))\n",
    "b5=nn.Sequential(*resnet_block(256,512,2))\n",
    "\n",
    "net=nn.Sequential(b1,\n",
    "                  b2,\n",
    "                  b3,\n",
    "                  b4,\n",
    "                  b5,\n",
    "                  nn.AdaptiveMaxPool2d((1,1)),\n",
    "                  Flatten(),\n",
    "                  nn.Linear(512, 10))\n",
    "\n",
    "print(net)"
   ]
  },
  {
   "cell_type": "code",
   "execution_count": null,
   "id": "a16938ca",
   "metadata": {},
   "outputs": [],
   "source": [
    "def embed_initializer(weight_matrix, non_trainable = True):\n",
    "    num_embeds, dim_embeds = weight_matrix.shape\n",
    "    weight_matrix = torch.from_numpy(weight_matrix)\n",
    "    \n",
    "    embed_layer = nn.Embedding(num_embeds, dim_embeds, padding_idx = 1).to('cuda')\n",
    "    embed_layer.load_state_dict({'weight' : weights_matrix})\n",
    "    \n",
    "    embed_layer.weight.requires_grad = False if non_trainable else True\n",
    "    \n",
    "    return embed_layer"
   ]
  },
  {
   "cell_type": "code",
   "execution_count": null,
   "id": "7e6d59bd",
   "metadata": {},
   "outputs": [],
   "source": [
    "lr, num_epochs, batch_size, device = 0.05, 5, 32, d2l.try_gpu()\n",
    "def init_weights(m):\n",
    "    if type(m) == nn.Linear or type(m) == nn.Conv2d:\n",
    "        torch.nn.init.xavier_uniform_(m.weight)\n",
    "net.apply(init_weights)\n",
    "criterion = nn.CrossEntropyLoss()\n",
    "train_iter, test_iter = d2l.load_data_fashion_mnist(batch_size, resize=224)\n",
    "d2l.train_ch5(net, train_iter, test_iter, criterion, num_epochs, batch_size, device, lr)"
   ]
  }
 ],
 "metadata": {
  "kernelspec": {
   "display_name": "Python 3",
   "language": "python",
   "name": "python3"
  },
  "language_info": {
   "codemirror_mode": {
    "name": "ipython",
    "version": 3
   },
   "file_extension": ".py",
   "mimetype": "text/x-python",
   "name": "python",
   "nbconvert_exporter": "python",
   "pygments_lexer": "ipython3",
   "version": "3.8.8"
  }
 },
 "nbformat": 4,
 "nbformat_minor": 5
}
