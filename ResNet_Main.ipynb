{
 "cells": [
  {
   "cell_type": "code",
   "execution_count": 1,
   "id": "1869d686",
   "metadata": {},
   "outputs": [
    {
     "name": "stdout",
     "output_type": "stream",
     "text": [
      "importing Jupyter notebook from ResNet_Model.ipynb\n"
     ]
    },
    {
     "ename": "ModuleNotFoundError",
     "evalue": "No module named 'fastai.vision.utils'",
     "output_type": "error",
     "traceback": [
      "\u001b[1;31m---------------------------------------------------------------------------\u001b[0m",
      "\u001b[1;31mModuleNotFoundError\u001b[0m                       Traceback (most recent call last)",
      "\u001b[1;32m<ipython-input-1-92857e2082f1>\u001b[0m in \u001b[0;36m<module>\u001b[1;34m\u001b[0m\n\u001b[0;32m      5\u001b[0m \u001b[1;32mfrom\u001b[0m \u001b[0mnltk\u001b[0m\u001b[1;33m.\u001b[0m\u001b[0mtokenize\u001b[0m \u001b[1;32mimport\u001b[0m \u001b[0mword_tokenize\u001b[0m\u001b[1;33m\u001b[0m\u001b[1;33m\u001b[0m\u001b[0m\n\u001b[0;32m      6\u001b[0m \u001b[1;32mfrom\u001b[0m \u001b[0mfastai\u001b[0m\u001b[1;33m.\u001b[0m\u001b[0mcallback\u001b[0m \u001b[1;32mimport\u001b[0m \u001b[1;33m*\u001b[0m\u001b[1;33m\u001b[0m\u001b[1;33m\u001b[0m\u001b[0m\n\u001b[1;32m----> 7\u001b[1;33m \u001b[1;32mimport\u001b[0m \u001b[0mfastai\u001b[0m\u001b[1;33m.\u001b[0m\u001b[0mvision\u001b[0m\u001b[1;33m.\u001b[0m\u001b[0mutils\u001b[0m\u001b[1;33m\u001b[0m\u001b[1;33m\u001b[0m\u001b[0m\n\u001b[0m\u001b[0;32m      8\u001b[0m \u001b[1;32mimport\u001b[0m \u001b[0mtorch\u001b[0m\u001b[1;33m.\u001b[0m\u001b[0mutils\u001b[0m\u001b[1;33m.\u001b[0m\u001b[0mdata\u001b[0m \u001b[1;32mas\u001b[0m \u001b[0mdata_utils\u001b[0m\u001b[1;33m\u001b[0m\u001b[1;33m\u001b[0m\u001b[0m\n\u001b[0;32m      9\u001b[0m \u001b[1;32mimport\u001b[0m \u001b[0mtorch\u001b[0m\u001b[1;33m\u001b[0m\u001b[1;33m\u001b[0m\u001b[0m\n",
      "\u001b[1;31mModuleNotFoundError\u001b[0m: No module named 'fastai.vision.utils'"
     ]
    }
   ],
   "source": [
    "import import_ipynb\n",
    "from ResNet_Model import *\n",
    "from fastai import *\n",
    "from fastai.text import *\n",
    "from nltk.tokenize import word_tokenize\n",
    "from fastai.callback import *\n",
    "import torch.utils.data as data_utils\n",
    "import torch"
   ]
  },
  {
   "cell_type": "code",
   "execution_count": null,
   "id": "bcd24aef",
   "metadata": {},
   "outputs": [],
   "source": [
    "device = torch.device('cuda')"
   ]
  },
  {
   "cell_type": "code",
   "execution_count": null,
   "id": "5761f9c1",
   "metadata": {},
   "outputs": [],
   "source": [
    "PADDING = 64  # 64 for Headlines, 128 for Reddit Main/Pol\n",
    "DATASET_PATH = '' #Dataset folder path\n",
    "DATASET = 'Headlines.csv'  #Dataset file\n",
    "COL = 'headline'   #headline for Headlines, comment for Reddit Main/Pol\n",
    "\n",
    "# Word embedding weights\n",
    "WEIGHTS = 'Weights_glove_headlines.pkl'\n",
    "EMBED_DIM = 50 # 50 for GloVe, 300 for FastText\n",
    "STATIC = False #Static or non-static embeddings"
   ]
  },
  {
   "cell_type": "code",
   "execution_count": null,
   "id": "a3bd52a2",
   "metadata": {},
   "outputs": [],
   "source": [
    "def pad_to(x: OrderedDict(), pad_til = PADDING) -> OrderedDict():\n",
    "    res = []\n",
    "    count = 0\n",
    "    for t in x:\n",
    "        res.append(t)\n",
    "        count += 1\n",
    "    while count < pad_til:\n",
    "        res.append(PAD)\n",
    "        count +=1\n",
    "    return res"
   ]
  },
  {
   "cell_type": "code",
   "execution_count": null,
   "id": "1ac56765",
   "metadata": {},
   "outputs": [],
   "source": [
    "tokenizer = Tokenizer(SpacyTokenizer, pre_rules=[fix_html, replace_rep, replace_wrep, spec_add_spaces, rm_useless_spaces], post_rules=[replace_all_caps, deal_caps, pad_to])\n",
    "processor = [TokenizeProcessor(tokenizer=tokenizer), NumericalizeProcessor()]"
   ]
  },
  {
   "cell_type": "code",
   "execution_count": null,
   "id": "06230209",
   "metadata": {},
   "outputs": [],
   "source": [
    "data = (TextList.from_csv(DATASET_PATH, DATASET, cols=COL, processor=processor))"
   ]
  },
  {
   "cell_type": "code",
   "execution_count": null,
   "id": "8084e4a4",
   "metadata": {},
   "outputs": [],
   "source": [
    "data = data.split_from_df(col='valid').label_from_df(cols=0).databunch(num_workers=0)"
   ]
  },
  {
   "cell_type": "code",
   "execution_count": null,
   "id": "a875c8f1",
   "metadata": {},
   "outputs": [],
   "source": [
    "weights_matrix = pickle.load(open(WEIGHTS, 'rb'))"
   ]
  },
  {
   "cell_type": "code",
   "execution_count": null,
   "id": "34ca7c28",
   "metadata": {},
   "outputs": [],
   "source": [
    "net = ResNet(weights_matrix, embed_dim = EMBED_DIM, static = STATIC)"
   ]
  },
  {
   "cell_type": "code",
   "execution_count": null,
   "id": "9456e86a",
   "metadata": {},
   "outputs": [],
   "source": [
    "net.to('cuda')"
   ]
  },
  {
   "cell_type": "code",
   "execution_count": null,
   "id": "629c0610",
   "metadata": {},
   "outputs": [],
   "source": [
    "learn = Learner(data, net, wd=0.1, loss_func=CrossEntropyFlat(),  metrics=[accuracy, FBeta(average='macro',beta=1),FBeta(average='micro',beta=1)])"
   ]
  },
  {
   "cell_type": "code",
   "execution_count": null,
   "id": "0ee46743",
   "metadata": {},
   "outputs": [],
   "source": [
    "learn.fit_one_cycle(10, 1e-03, moms=(0.8,0.7))"
   ]
  }
 ],
 "metadata": {
  "kernelspec": {
   "display_name": "Python 3",
   "language": "python",
   "name": "python3"
  },
  "language_info": {
   "codemirror_mode": {
    "name": "ipython",
    "version": 3
   },
   "file_extension": ".py",
   "mimetype": "text/x-python",
   "name": "python",
   "nbconvert_exporter": "python",
   "pygments_lexer": "ipython3",
   "version": "3.8.8"
  }
 },
 "nbformat": 4,
 "nbformat_minor": 5
}
